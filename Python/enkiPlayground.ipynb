{
 "cells": [
  {
   "cell_type": "markdown",
   "metadata": {},
   "source": [
    "# Program to convert miles to kilometers"
   ]
  },
  {
   "cell_type": "code",
   "execution_count": null,
   "metadata": {},
   "outputs": [],
   "source": [
    "# A kilometer is equal to `0.621371` miles\n",
    "# A mile is equal to `1.60934` kilometers\n",
    "\n",
    "# Example output:\n",
    "# 3 miles are equal to 4.8289 kilometers\n",
    "\n",
    "# Type your code here:\n",
    "def converMi2Km(miles):\n",
    "  meters = miles * 1609.344\n",
    "  kilometers = meters/1000\n",
    "  return kilometers\n",
    "\n",
    "miles_to_convert = 3\n",
    "print(f\"{miles_to_convert} miles is = {converMi2Km(miles_to_convert)} kilometers\")"
   ]
  },
  {
   "cell_type": "markdown",
   "metadata": {},
   "source": [
    "# The Fibonacci Sequence using while loop"
   ]
  },
  {
   "cell_type": "code",
   "execution_count": 7,
   "metadata": {},
   "outputs": [
    {
     "name": "stdout",
     "output_type": "stream",
     "text": [
      "1 1 2 \n",
      "1 1 2 3 5 \n",
      "1 1 2 3 5 8 13 21 34 55 "
     ]
    }
   ],
   "source": [
    "def fibonacci(terms):\n",
    "    a, b = 1, 1\n",
    "    count = 0\n",
    "    while(count < terms):\n",
    "        print(a, end=\" \")\n",
    "        a, b = b, a + b\n",
    "        count += 1\n",
    "\n",
    "fibonacci(3)\n",
    "print()\n",
    "fibonacci(5)\n",
    "print()\n",
    "fibonacci(10)"
   ]
  }
 ],
 "metadata": {
  "kernelspec": {
   "display_name": "Python 3",
   "language": "python",
   "name": "python3"
  },
  "language_info": {
   "codemirror_mode": {
    "name": "ipython",
    "version": 3
   },
   "file_extension": ".py",
   "mimetype": "text/x-python",
   "name": "python",
   "nbconvert_exporter": "python",
   "pygments_lexer": "ipython3",
   "version": "3.12.3"
  }
 },
 "nbformat": 4,
 "nbformat_minor": 2
}
