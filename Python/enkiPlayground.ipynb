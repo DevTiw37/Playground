{
 "cells": [
  {
   "cell_type": "markdown",
   "metadata": {},
   "source": [
    "## Coin Grabbing Simulator\n",
    "\n",
    "Imagine you have to simulate grabbing five coins from three different jars. \n",
    "\n",
    "You could make a function, `pick_coins`, with five commands and use it three times, saving yourself a lot of time.\n",
    "\n",
    "```python\n",
    "def pick_coins():\n",
    "  grab_1st_coin()\n",
    "  grab_2nd_coin()\n",
    "  grab_3rd_coin()\n",
    "  grab_4th_coin()\n",
    "  grab_5th_coin()\n",
    "\n",
    "pick_coins()\n",
    "pick_coins()\n",
    "pick_coins()\n",
    "```\n",
    "<table>\n",
    "            <caption>Example</caption>\n",
    "            <thead>\n",
    "                <tr>\n",
    "                    <th>Sudo-code</th>\n",
    "                    <th>Actual Code</th>\n",
    "                    <th>Output</th>\n",
    "                </tr>\n",
    "            </thead>\n",
    "            <tbody>\n",
    "                <tr>\n",
    "                    <td>\n",
    "                    <pre>def pick_coins():\n",
    "  grab_1st_coin()\n",
    "  grab_2nd_coin()\n",
    "  grab_3rd_coin()\n",
    "  grab_4th_coin()\n",
    "  grab_5th_coin()\n",
    "\n",
    "pick_coins()\n",
    "pick_coins()\n",
    "pick_coins()\n",
    "                    </pre>\n",
    "                    </td>\n",
    "                    <td>\n",
    "                    <pre>def grab_coins():\n",
    "    &nbsp;print(\"First coin grabbed\")\n",
    "    &nbsp;print(\"Second coin grabbed\")\n",
    "    &nbsp;print(\"Third coin grabbed\")\n",
    "    &nbsp;print(\"Forth coin grabbed\")\n",
    "    &nbsp;print(\"Fifth coin grabbed\")\n",
    "\n",
    "grab_coins()\n",
    "print(\"Moving to next jar...\")\n",
    "grab_coins()\n",
    "print(\"Moving to last jar...\")\n",
    "grab_coins()\n",
    "print(\"Finished grabbing coins from all three jars\")\n",
    "                    </pre></td>\n",
    "                    <td>\n",
    "                    <pre>First coin grabbed\n",
    "Second coin grabbed\n",
    "Third coin grabbed\n",
    "Forth coin grabbed\n",
    "Fifth coin grabbed\n",
    "Moving to next jar...\n",
    "First coin grabbed\n",
    "Second coin grabbed\n",
    "Third coin grabbed\n",
    "Forth coin grabbed\n",
    "Fifth coin grabbed\n",
    "Moving to last jar...\n",
    "First coin grabbed\n",
    "Second coin grabbed\n",
    "Third coin grabbed\n",
    "Forth coin grabbed\n",
    "Fifth coin grabbed\n",
    "Finished grabbing coins from all three jars\n",
    "                    </pre></td>\n",
    "                </tr>\n",
    "            </tbody>\n",
    "        </table>\n",
    "    </section>\n",
    "\n",
    "\n",
    "Now imagine, you need to grab 100 coins from 80 jars. \n",
    "\n",
    "You could put `pick_coins` inside a loop; however, you still need to write 100 lines of code to grab each coin.\n",
    "\n",
    "Maybe you could put a loop inside `pick_coins` to repeat the grab coin command 100 times; in that case, you'll still need to call the function `pick_coins` 80 times.\n",
    "\n",
    "There has to be a better way! What else can we do?\n",
    " \n",
    " "
   ]
  },
  {
   "cell_type": "code",
   "execution_count": null,
   "metadata": {},
   "outputs": [],
   "source": [
    "from inflect import engine\n",
    "p = engine()\n",
    "def grab_coins():\n",
    "    for i in range(1, 81):\n",
    "        print(f\"{p.ordinal(i)} coin grabbed\")\n",
    "\n",
    "for j in range(1,101):\n",
    "    print(f\"Moving to {p.ordinal(j)} jar\")\n",
    "    grab_coins()\n",
    "    "
   ]
  },
  {
   "cell_type": "markdown",
   "metadata": {},
   "source": [
    "# Program to convert miles to kilometers"
   ]
  },
  {
   "cell_type": "code",
   "execution_count": null,
   "metadata": {},
   "outputs": [],
   "source": [
    "# A kilometer is equal to `0.621371` miles\n",
    "# A mile is equal to `1.60934` kilometers\n",
    "\n",
    "# Example output:\n",
    "# 3 miles are equal to 4.8289 kilometers\n",
    "\n",
    "# Type your code here:\n",
    "def converMi2Km(miles):\n",
    "  meters = miles * 1609.344\n",
    "  kilometers = meters/1000\n",
    "  return kilometers\n",
    "\n",
    "miles_to_convert = 3\n",
    "print(f\"{miles_to_convert} miles is = {converMi2Km(miles_to_convert)} kilometers\")"
   ]
  },
  {
   "cell_type": "markdown",
   "metadata": {},
   "source": [
    "# The Fibonacci Sequence using while loop"
   ]
  },
  {
   "cell_type": "code",
   "execution_count": 8,
   "metadata": {},
   "outputs": [
    {
     "name": "stdout",
     "output_type": "stream",
     "text": [
      "1 1 2 \n",
      "1 1 2 3 5 \n",
      "1 1 2 3 5 8 13 21 34 55 "
     ]
    }
   ],
   "source": [
    "def fibonacci(terms):\n",
    "    a, b = 0, 1\n",
    "    count = 0\n",
    "    while(count < terms):\n",
    "        print(b, end=\" \")\n",
    "        a, b = b, a + b\n",
    "        count += 1\n",
    "\n",
    "fibonacci(3)\n",
    "print()\n",
    "fibonacci(5)\n",
    "print()\n",
    "fibonacci(10)"
   ]
  },
  {
   "cell_type": "markdown",
   "metadata": {},
   "source": [
    "# Word Length\n",
    "\n",
    "<span style=\"color: blue\">\n",
    "👩‍💻 Your task is to define a function that splits a sentence into separate words and only outputs words longer than four letters.\n",
    "</span>\n",
    "\n",
    "Example input/output:\n",
    "\n",
    "```python\n",
    "  # Input\n",
    "  myFunction('Mary had a little lamb')\n",
    "  \n",
    "  # Output:\n",
    "  little\n",
    "```\n",
    "To solve this, try using the following concepts:\n",
    "- flow control (```for...in..., if(x > 4)...```)\n",
    "- built-in functions (```len(), split()```)\n",
    "- function creation (```def something(x):```)"
   ]
  },
  {
   "cell_type": "code",
   "execution_count": 23,
   "metadata": {},
   "outputs": [
    {
     "name": "stdout",
     "output_type": "stream",
     "text": [
      "Marry\n",
      "little\n"
     ]
    }
   ],
   "source": [
    "def filter_long_words(sentence):\n",
    "    words = sentence.split()\n",
    "    for word in words:\n",
    "        if len(word)>4:\n",
    "            print(word)\n",
    "sentence = \"Marry had a little lamb\"\n",
    "filter_long_words(sentence)"
   ]
  },
  {
   "cell_type": "markdown",
   "metadata": {},
   "source": [
    "# Least Frequent Character\n",
    "\n",
    "```\n",
    "👩‍💻Your task is to write a program that:\n",
    "- takes a string as input\n",
    "- determines which characters appear the least\n",
    "- print the least occurring character along with its number of occurrences\n",
    "```\n",
    "\n",
    "To solve this, try using the following concepts:\n",
    "- flow control (```for...in```, ```if ( age < 1)...```)\n",
    "- variable creation ```(age = 33)```"
   ]
  },
  {
   "cell_type": "code",
   "execution_count": null,
   "metadata": {},
   "outputs": [],
   "source": [
    "def splitWords2Char(sentence):\n",
    "    sentence = sentence.split()\n",
    "    sentence = [char for word in sentence for char in word]\n",
    "    return sentence\n"
   ]
  }
 ],
 "metadata": {
  "kernelspec": {
   "display_name": "Python 3",
   "language": "python",
   "name": "python3"
  },
  "language_info": {
   "codemirror_mode": {
    "name": "ipython",
    "version": 3
   },
   "file_extension": ".py",
   "mimetype": "text/x-python",
   "name": "python",
   "nbconvert_exporter": "python",
   "pygments_lexer": "ipython3",
   "version": "3.12.4"
  }
 },
 "nbformat": 4,
 "nbformat_minor": 2
}
