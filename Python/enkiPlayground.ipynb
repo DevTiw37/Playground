{
 "cells": [
  {
   "cell_type": "markdown",
   "metadata": {},
   "source": [
    "# Program to convert miles to kilometers"
   ]
  },
  {
   "cell_type": "code",
   "execution_count": null,
   "metadata": {},
   "outputs": [],
   "source": [
    "# A kilometer is equal to `0.621371` miles\n",
    "# A mile is equal to `1.60934` kilometers\n",
    "\n",
    "# Example output:\n",
    "# 3 miles are equal to 4.8289 kilometers\n",
    "\n",
    "# Type your code here:\n",
    "def converMi2Km(miles):\n",
    "  meters = miles * 1609.344\n",
    "  kilometers = meters/1000\n",
    "  return kilometers\n",
    "\n",
    "miles_to_convert = 3\n",
    "print(f\"{miles_to_convert} miles is = {converMi2Km(miles_to_convert)} kilometers\")"
   ]
  }
 ],
 "metadata": {
  "language_info": {
   "name": "python"
  }
 },
 "nbformat": 4,
 "nbformat_minor": 2
}
