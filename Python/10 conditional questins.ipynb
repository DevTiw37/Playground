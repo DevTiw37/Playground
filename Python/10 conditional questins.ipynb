{
 "cells": [
  {
   "cell_type": "markdown",
   "metadata": {},
   "source": [
    "<details><summary>1. Age Group Categorization</summary>Classify a person's age group: Child (< 13), Teenager (13-19), Adult (20-59), Senior (60+).</details>"
   ]
  },
  {
   "cell_type": "code",
   "execution_count": 23,
   "metadata": {},
   "outputs": [
    {
     "data": {
      "text/plain": [
       "'Teenager'"
      ]
     },
     "execution_count": 23,
     "metadata": {},
     "output_type": "execute_result"
    }
   ],
   "source": [
    "def age_group(age: int) -> str:\n",
    "    if age < 0:\n",
    "        return 'Invalid'\n",
    "    elif age < 13:\n",
    "        return 'Child'\n",
    "    elif age < 20:\n",
    "        return 'Teenager'\n",
    "    elif age < 60:\n",
    "        return 'Adult'\n",
    "    else:\n",
    "        return 'Senior'\n",
    "\n",
    "\n",
    "age_group(16)"
   ]
  },
  {
   "cell_type": "markdown",
   "metadata": {},
   "source": [
    "<details><summary>2. Movie Ticket Pricing</summary>Problem: Movie tickets are priced based on age: $12 for adults (18 and over), $8 for children. Everyone gets a $2 discount on Wednesday.</details>"
   ]
  },
  {
   "cell_type": "code",
   "execution_count": 24,
   "metadata": {},
   "outputs": [
    {
     "data": {
      "text/plain": [
       "10"
      ]
     },
     "execution_count": 24,
     "metadata": {},
     "output_type": "execute_result"
    }
   ],
   "source": [
    "def ticket_price(age: int, day: str = '') -> int:\n",
    "    if age <= 0:\n",
    "        return \"Invalid age\"\n",
    "\n",
    "    price = 12 if age >= 18 else 8  # Ternary operator for cleaner logic\n",
    "    \n",
    "    if day.strip().lower() == 'wednesday':\n",
    "        price -= 2\n",
    "    \n",
    "    return price\n",
    "\n",
    "ticket_price(34, day='Wednesday')"
   ]
  },
  {
   "cell_type": "markdown",
   "metadata": {},
   "source": [
    "<details><summary>3. Grade Calculator</summary>Problem: Assign a letter grade based on a student's score: A (90-100), B (80-89), C (70-79), D (60-69), F (below 60).</details>"
   ]
  },
  {
   "cell_type": "code",
   "execution_count": null,
   "metadata": {},
   "outputs": [],
   "source": [
    "def grade_calculator(score: int) -> str:\n",
    "    if score < 0 or score > 100:\n",
    "        return \"Invalid score\"\n",
    "    \n",
    "    if score >= 90:\n",
    "        return \"A\"\n",
    "    elif score >= 80:\n",
    "        return \"B\"\n",
    "    elif score >= 70:\n",
    "        return \"C\"\n",
    "    elif score >= 60:\n",
    "        return \"D\"\n",
    "    else:\n",
    "        return \"F\"\n"
   ]
  },
  {
   "cell_type": "markdown",
   "metadata": {},
   "source": [
    "<details><summary>4. Fruit Ripeness Checker</summary>Problem: Determine if a fruit is ripe, overripe, or unripe based on its color. (e.g., Banana: Green - Unripe, Yellow - Ripe, Brown - Overripe)</details>"
   ]
  },
  {
   "cell_type": "code",
   "execution_count": null,
   "metadata": {},
   "outputs": [],
   "source": [
    "def fruit_ripeness_checker(fruit: str, color: str) -> str:\n",
    "    fruit_ripness_chart = {\n",
    "        'banana': {'green': 'unripe', 'yellow': 'ripe', 'brown': 'overripe'},\n",
    "        'avocado': {'green': 'unripe', 'black': 'ripe', 'musty': 'overripe'},\n",
    "        'mango': {'green': 'unripe', 'yellow': 'ripe', 'red': 'overripe'},\n",
    "        'strawberry': {'green': 'unripe', 'red': 'ripe', 'brown': 'overripe'}\n",
    "    }\n",
    "    \n",
    "    fruit = fruit.strip().lower()\n",
    "    color = color.strip().lower()\n",
    "    \n",
    "    if fruit in fruit_ripness_chart and color in fruit_ripness_chart[fruit]:\n",
    "        return fruit_ripness_chart[fruit][color]\n",
    "    elif fruit in fruit_ripness_chart and not color in fruit_ripness_chart[fruit]:\n",
    "        return 'Unknown color'\n",
    "    else:\n",
    "        return 'Unknown fruit'\n",
    "\n",
    "\n",
    "fruit = input('Enter the fruit: ')\n",
    "color = input('Enter the color: ')\n",
    "print('The fruit is:', fruit_ripeness_checker(fruit, color))"
   ]
  },
  {
   "cell_type": "markdown",
   "metadata": {},
   "source": [
    "<details><summary>5. Weather Activity Suggestion</summary>Problem: Suggest an activity based on the weather (e.g., Sunny - Go for a walk, Rainy - Read a book, Snowy - Build a snowman).</details>"
   ]
  },
  {
   "cell_type": "code",
   "execution_count": 42,
   "metadata": {},
   "outputs": [
    {
     "name": "stdout",
     "output_type": "stream",
     "text": [
      "Do what you love!\n"
     ]
    }
   ],
   "source": [
    "weather = input('What\\'s the weather today?: ').strip().lower()\n",
    "if weather == 'sunny':\n",
    "    print('You should go for a walk')\n",
    "elif weather == 'rainy':\n",
    "    print('You should read a book today')\n",
    "elif weather == 'snowy':\n",
    "    print('You should build a snowman today')\n",
    "else:\n",
    "    print('Do what you love!')"
   ]
  },
  {
   "cell_type": "markdown",
   "metadata": {},
   "source": [
    "<details><summary>6. Transportation Mode Selection</summary>Problem: Choose a mode of transportation based on the distance (e.g., <3 km: Walk, 3-15 km: Bike, >15 km: Car).</details>"
   ]
  },
  {
   "cell_type": "code",
   "execution_count": null,
   "metadata": {},
   "outputs": [],
   "source": [
    "distance = int(input('Enter the distance: '))\n",
    "\n",
    "if distance < 3:\n",
    "    print('Walk')\n",
    "elif distance < 15:\n",
    "    print('Bike')\n",
    "else:\n",
    "    print('Car')"
   ]
  },
  {
   "cell_type": "markdown",
   "metadata": {},
   "source": [
    "<details><summary>7. Coffee Customization</summary>Problem: Customize a coffee order: \"Small\", \"Medium\", or \"Large\" with an option for \"Extra shot\" of espresso.</details>"
   ]
  },
  {
   "cell_type": "code",
   "execution_count": null,
   "metadata": {},
   "outputs": [],
   "source": [
    "size = input('What size coffee would you like? (small, medium, large): ').strip().lower()\n",
    "extra_shot = input('Would you like an extra shot of espresso? (yes, no): ').strip().lower()\n",
    "\n",
    "if size == 'small':\n",
    "    price = 2\n",
    "elif size == 'medium':\n",
    "    price = 3\n",
    "elif size == 'large':\n",
    "    price = 4\n",
    "\n",
    "if extra_shot == 'yes':\n",
    "    price += 1\n",
    "\n",
    "print(f'Your total is: ${price}')\n"
   ]
  },
  {
   "cell_type": "markdown",
   "metadata": {},
   "source": [
    "<details><summary>8. Password Strength Checker</summary>Problem: Check if a password is \"Weak\", \"Medium\", or \"Strong\". Criteria: < 6 chars (Weak), 6-10 chars (Medium), >10 chars (Strong).</details>"
   ]
  },
  {
   "cell_type": "code",
   "execution_count": 4,
   "metadata": {},
   "outputs": [
    {
     "name": "stdout",
     "output_type": "stream",
     "text": [
      "Medium\n"
     ]
    }
   ],
   "source": [
    "def password_strength_checker(password: str) -> str:\n",
    "    if len(password) < 6:\n",
    "        return 'Weak'\n",
    "    elif len(password) < 10:\n",
    "        return 'Medium'\n",
    "    else:\n",
    "        return 'Strong'\n",
    "\n",
    "\n",
    "password = input('Enter password: ')\n",
    "print(password_strength_checker(password))"
   ]
  },
  {
   "cell_type": "markdown",
   "metadata": {},
   "source": [
    "<details><summary>9. Leap Year Checker</summary>Problem: Determine if a year is a leap year. (Leap years are divisible by 4, but not by 100 unless also divisible by 400).</details>"
   ]
  },
  {
   "cell_type": "code",
   "execution_count": null,
   "metadata": {},
   "outputs": [],
   "source": [
    "def is_leap_year(year: int) -> bool:\n",
    "    if year % 4 == 0 and (year % 100 != 0 or year % 400 == 0):\n",
    "        return True\n",
    "    else:\n",
    "        return False\n"
   ]
  },
  {
   "cell_type": "markdown",
   "metadata": {},
   "source": [
    "<details><summary>10. Pet Food Recommendation</summary>Problem: Recommend a type of pet food based on the pet's species and age. (e.g., Dog: <2 years - Puppy food, Cat: >5 years - Senior cat food).</details>"
   ]
  },
  {
   "cell_type": "code",
   "execution_count": null,
   "metadata": {},
   "outputs": [],
   "source": [
    "def pet_food_recommendation(species: str, age: int) -> str:\n",
    "    if species.lower() == 'dog' and age < 2:\n",
    "        return 'Puppy food'\n",
    "    elif species.lower() == 'cat' and age > 5:\n",
    "        return 'Senior cat food'\n",
    "    else:\n",
    "        return 'Adult pet food'"
   ]
  }
 ],
 "metadata": {
  "kernelspec": {
   "display_name": "Python 3",
   "language": "python",
   "name": "python3"
  },
  "language_info": {
   "codemirror_mode": {
    "name": "ipython",
    "version": 3
   },
   "file_extension": ".py",
   "mimetype": "text/x-python",
   "name": "python",
   "nbconvert_exporter": "python",
   "pygments_lexer": "ipython3",
   "version": "3.12.8"
  }
 },
 "nbformat": 4,
 "nbformat_minor": 2
}
