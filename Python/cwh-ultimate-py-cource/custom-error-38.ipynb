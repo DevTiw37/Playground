{
 "cells": [
  {
   "cell_type": "markdown",
   "metadata": {},
   "source": [
    "## Raising Custom errors \n",
    "In python, we can raise custom errors by using the `raise`  keyword. \n",
    "```python\n",
    "salary = int(input(\"Enter salary amount: \"))\n",
    "if not 2000 < salary < 5000:\n",
    "    raise ValueError(\"Not a valid salary\")\n",
    "```\n",
    "\n",
    "In the previous tutorial, we learned about different built-in exceptions in Python and why it is important to handle exceptions. However, sometimes we may need to create our own custom exceptions that serve our purpose.\n",
    "\n",
    "## Defining Custom Exceptions\n",
    "In Python, we can define custom exceptions by creating a new class that is derived from the built-in Exception class.\n",
    "\n",
    "Here's the syntax to define custom exceptions:\n",
    "```python\n",
    "class CustomError(Exception):\n",
    "  # code ...\n",
    "  pass\n",
    "\n",
    "try:\n",
    "  # code ...\n",
    "\n",
    "except CustomError:\n",
    "  # code...\n",
    "```\n",
    "\n",
    "This is useful because sometimes we might want to do something when a particular exception is raised. For example, sending an error report to the admin, calling an api, etc.\n",
    "## [Next Lesson>>](https://replit.com/@codewithharry/39-Day39-Exercise-3-Solution)"
   ]
  },
  {
   "cell_type": "code",
   "execution_count": null,
   "metadata": {},
   "outputs": [],
   "source": [
    "a = int(input(\"Enter any value between 5 and 9: \"))\n",
    "if(a <= 5 or a >= 9):\n",
    "    raise   ValueError(\"Thats wrong\")"
   ]
  },
  {
   "cell_type": "markdown",
   "metadata": {},
   "source": [
    "### Home Work"
   ]
  },
  {
   "cell_type": "code",
   "execution_count": 1,
   "metadata": {},
   "outputs": [
    {
     "ename": "",
     "evalue": "",
     "output_type": "error",
     "traceback": [
      "\u001b[1;31mThe Kernel crashed while executing code in the current cell or a previous cell. \n",
      "\u001b[1;31mPlease review the code in the cell(s) to identify a possible cause of the failure. \n",
      "\u001b[1;31mClick <a href='https://aka.ms/vscodeJupyterKernelCrash'>here</a> for more info. \n",
      "\u001b[1;31mView Jupyter <a href='command:jupyter.viewOutput'>log</a> for further details."
     ]
    }
   ],
   "source": [
    "a = input(\"Enter any value between 5 and 9: \")\n",
    "if a != \"quit\":\n",
    "  if(int(a)<5  or int(a)>9):\n",
    "    raise  ValueError(\"Value should be between 5 and 9\")"
   ]
  }
 ],
 "metadata": {
  "kernelspec": {
   "display_name": "Python 3",
   "language": "python",
   "name": "python3"
  },
  "language_info": {
   "codemirror_mode": {
    "name": "ipython",
    "version": 3
   },
   "file_extension": ".py",
   "mimetype": "text/x-python",
   "name": "python",
   "nbconvert_exporter": "python",
   "pygments_lexer": "ipython3",
   "version": "3.12.4"
  }
 },
 "nbformat": 4,
 "nbformat_minor": 2
}
