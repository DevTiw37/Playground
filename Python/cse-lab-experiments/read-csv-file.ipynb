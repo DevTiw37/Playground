{
 "cells": [
  {
   "cell_type": "markdown",
   "metadata": {},
   "source": [
    "# Write a program to read data set through a csv file using python."
   ]
  },
  {
   "cell_type": "code",
   "execution_count": 2,
   "metadata": {},
   "outputs": [
    {
     "name": "stdout",
     "output_type": "stream",
     "text": [
      "['Name', 'Age', 'City', 'State']\n",
      "['Michael Smith', '30', 'New York', 'NY']\n",
      "['Emily Jones', '25', 'Los Angeles', 'CA']\n",
      "['David Lee', '40', 'Chicago', 'IL']\n",
      "['Sarah Garcia', '18', 'Houston', 'TX']\n",
      "['William Johnson', '65', 'Phoenix', 'AZ']\n",
      "['Amanda Hernandez', '50', 'San Antonio', 'TX']\n",
      "['Christopher Taylor', '35', 'San Diego', 'CA']\n",
      "['Ashley Lopez', '22', 'Dallas', 'TX']\n",
      "['Matthew Walker', '42', 'San Jose', 'CA']\n",
      "['Nicole Garcia', '28', 'Austin', 'TX']\n"
     ]
    }
   ],
   "source": [
    "import csv\n",
    "with open(\"employee.csv\",\"r\") as csvfile:\n",
    "    csv_reader = csv.reader(csvfile)\n",
    "    for row in csv_reader:\n",
    "        print(row)"
   ]
  },
  {
   "cell_type": "markdown",
   "metadata": {},
   "source": [
    "Python provides a built-in module called `csv` for working with CSV files. Here's how you can read a dataset from a CSV file:\n",
    "\n",
    "**1. Import the `csv` module:**\n",
    "\n",
    "```python\n",
    "import csv\n",
    "```\n",
    "\n",
    "**2. Open the CSV file:**\n",
    "\n",
    "Use the `open()` function to open the CSV file in read mode (`'r'`). It's recommended to use a `with` statement to ensure proper file handling and automatic closing:\n",
    "\n",
    "```python\n",
    "with open('your_dataset.csv', 'r') as csvfile:\n",
    "  # Process the CSV file here\n",
    "```\n",
    "\n",
    "**3. Create a reader object:**\n",
    "\n",
    "There are two main ways to read data from the CSV file:\n",
    "\n",
    "* **Using `csv.reader()`:**\n",
    "\n",
    "  This method returns a reader object that iterates over each line of the CSV file as a list of values. You can access individual values within each row using indexing.\n",
    "\n",
    "  ```python\n",
    "  csv_reader = csv.reader(csvfile)\n",
    "  for row in csv_reader:\n",
    "      # Process each row\n",
    "      print(row)  # Print each row as a list\n",
    "      # Access elements by index:\n",
    "      # name = row[0]\n",
    "      # age = row[1]\n",
    "  ```\n",
    "\n",
    "* **Using `csv.DictReader()`:**\n",
    "\n",
    "  This method assumes the first row of your CSV file contains column names (headers). It returns a reader object that iterates over each row as an ordered dictionary, where column names are keys and corresponding values are items.\n",
    "\n",
    "  ```python\n",
    "  csv_reader = csv.DictReader(csvfile)\n",
    "  for row in csv_reader:\n",
    "      # Process each row as a dictionary\n",
    "      print(row['name'], row['age'])  # Access data by column name\n",
    "  ```\n",
    "\n",
    "**4. Process the data:**\n",
    "\n",
    "Iterate through the reader object using a `for` loop. Inside the loop, you can access the data in each row based on the method you chose:\n",
    "\n",
    "* For `csv.reader()`, access elements using indexing (`row[index]`).\n",
    "* For `csv.DictReader()`, access data using column names as dictionary keys (`row['column_name']`).\n",
    "\n",
    "**Here are some additional points to consider:**\n",
    "\n",
    "* Specify the delimiter (character separating values) if it's not a comma (`,`) using the `delimiter` argument in `csv.reader()` or `csv.DictReader()`.\n",
    "* Handle missing values using techniques like replacing them with a specific value or removing rows with missing data.\n",
    "\n",
    "I hope this explanation helps! Feel free to ask if you have any further questions."
   ]
  }
 ],
 "metadata": {
  "kernelspec": {
   "display_name": "Python 3",
   "language": "python",
   "name": "python3"
  },
  "language_info": {
   "codemirror_mode": {
    "name": "ipython",
    "version": 3
   },
   "file_extension": ".py",
   "mimetype": "text/x-python",
   "name": "python",
   "nbconvert_exporter": "python",
   "pygments_lexer": "ipython3",
   "version": "3.12.4"
  }
 },
 "nbformat": 4,
 "nbformat_minor": 2
}
