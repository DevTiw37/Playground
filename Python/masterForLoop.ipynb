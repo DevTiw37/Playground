{
 "cells": [
  {
   "cell_type": "markdown",
   "metadata": {},
   "source": [
    "<h1>Master For Loop in Python</h1>\n",
    "\n",
    "<h2>Beginner Level:</h2>"
   ]
  },
  {
   "cell_type": "markdown",
   "metadata": {},
   "source": [
    "<h3>1. Print Numbers:</h3>"
   ]
  },
  {
   "cell_type": "code",
   "execution_count": 2,
   "metadata": {},
   "outputs": [
    {
     "name": "stdout",
     "output_type": "stream",
     "text": [
      "1\n",
      "2\n",
      "3\n",
      "4\n",
      "5\n",
      "6\n",
      "7\n",
      "8\n",
      "9\n",
      "10\n"
     ]
    }
   ],
   "source": [
    "# Print the first 10 natural numbers.\n",
    "\n",
    "for i in range(1,11):\n",
    "    print(i)"
   ]
  },
  {
   "cell_type": "code",
   "execution_count": 5,
   "metadata": {},
   "outputs": [
    {
     "name": "stdout",
     "output_type": "stream",
     "text": [
      "0\n",
      "2\n",
      "4\n",
      "6\n",
      "8\n",
      "10\n",
      "12\n",
      "14\n",
      "16\n",
      "18\n",
      "20\n"
     ]
    }
   ],
   "source": [
    "# Print all even numbers from 1 to 20.\n",
    "\n",
    "for i in range(21):\n",
    "    if i%2==0:\n",
    "        print(i)"
   ]
  },
  {
   "cell_type": "code",
   "execution_count": 7,
   "metadata": {},
   "outputs": [
    {
     "name": "stdout",
     "output_type": "stream",
     "text": [
      "15\n",
      "17\n",
      "19\n",
      "21\n",
      "23\n",
      "25\n",
      "27\n",
      "29\n",
      "31\n",
      "33\n",
      "35\n"
     ]
    }
   ],
   "source": [
    "# Print all odd numbers from 15 to 35.\n",
    "\n",
    "for i in range(15,36):\n",
    "    if i%2!=0:\n",
    "        print(i)"
   ]
  },
  {
   "cell_type": "markdown",
   "metadata": {},
   "source": [
    "<h3>2. Sum of Numbers:</h3>"
   ]
  },
  {
   "cell_type": "code",
   "execution_count": 9,
   "metadata": {},
   "outputs": [
    {
     "name": "stdout",
     "output_type": "stream",
     "text": [
      "55\n"
     ]
    }
   ],
   "source": [
    "\n",
    "# Calculate the sum of all numbers from 1 to a given number (e.g., 100).\n",
    "\n",
    "num = int(input(\"Enter a number: \"))\n",
    "sum = 0\n",
    "for i in range(num+1):\n",
    "    sum = sum + i\n",
    "print(sum)"
   ]
  },
  {
   "cell_type": "code",
   "execution_count": 11,
   "metadata": {},
   "outputs": [
    {
     "name": "stdout",
     "output_type": "stream",
     "text": [
      "30\n"
     ]
    }
   ],
   "source": [
    "# Calculate the sum of all even numbers within a specific range.\n",
    "\n",
    "def calculate_even_number(num):\n",
    "    sum = 0\n",
    "    for i in range(num + 1):\n",
    "        if i%2==0:\n",
    "            sum = sum + i\n",
    "    return sum\n",
    "\n",
    "num = int(input(\"Enter a number: \"))\n",
    "print(calculate_even_number(num))"
   ]
  },
  {
   "cell_type": "markdown",
   "metadata": {},
   "source": [
    "<h3>3. Multiplication Table:</h3>"
   ]
  },
  {
   "cell_type": "code",
   "execution_count": 14,
   "metadata": {},
   "outputs": [
    {
     "name": "stdout",
     "output_type": "stream",
     "text": [
      "Multiplication table of 2 till 10 is \n",
      "2 x 0 = 0\n",
      "2 x 1 = 2\n",
      "2 x 2 = 4\n",
      "2 x 3 = 6\n",
      "2 x 4 = 8\n",
      "2 x 5 = 10\n",
      "2 x 6 = 12\n",
      "2 x 7 = 14\n",
      "2 x 8 = 16\n",
      "2 x 9 = 18\n",
      "2 x 10 = 20\n"
     ]
    }
   ],
   "source": [
    "# Print the multiplication table of a given number (e.g., 7) up to a certain number of terms (e.g., 10).\n",
    "\n",
    "def product(multiplicend, nMultipliers):\n",
    "    for i in range(nMultipliers+1):\n",
    "        print(f\"{multiplicend} x {i} = {multiplicend*i}\")\n",
    "\n",
    "a,b = map(int, input(\"Enter two numbers: \").split())\n",
    "\n",
    "print(f\"Multiplication table of {a} till {b} is \")\n",
    "product(a,b)"
   ]
  },
  {
   "cell_type": "markdown",
   "metadata": {},
   "source": [
    "<h3>4. List Manipulation</h3>"
   ]
  },
  {
   "cell_type": "code",
   "execution_count": 18,
   "metadata": {},
   "outputs": [
    {
     "name": "stdout",
     "output_type": "stream",
     "text": [
      "Apple\n",
      "Mango\n",
      "Banana\n",
      "Grapes\n"
     ]
    }
   ],
   "source": [
    "# Print all elements of a given list using a for loop.\n",
    "\n",
    "list = [\"Apple\", \"Mango\", \"Banana\", \"Grapes\"]\n",
    "for i in list:\n",
    "    print(i)"
   ]
  },
  {
   "cell_type": "code",
   "execution_count": 20,
   "metadata": {},
   "outputs": [
    {
     "name": "stdout",
     "output_type": "stream",
     "text": [
      "[1, 4, 9, 16, 25, 36, 49, 64, 81]\n"
     ]
    }
   ],
   "source": [
    "# Create a new list containing the squares of all numbers in another list.\n",
    "\n",
    "l = [1,2,3,4,5,6,7,8,9]\n",
    "nl = []\n",
    "for i in l:\n",
    "    nl.append(i**2)\n",
    "print(nl)"
   ]
  },
  {
   "cell_type": "code",
   "execution_count": 1,
   "metadata": {},
   "outputs": [
    {
     "name": "stdout",
     "output_type": "stream",
     "text": [
      "[529, 1156, 2025, 441, 144]\n"
     ]
    }
   ],
   "source": [
    "# Same program as above but with user input\n",
    "\n",
    "usrinput = input(\"Enter numbers to find square of: \")    # take input from the user as a string\n",
    "l = usrinput.split()  # Split the string into a list of substrings\n",
    "\n",
    "# Now, convert each substring to an integer\n",
    "# You can use various method for this --> https://gemini.google.com/app/4c3f7317aea8d326\n",
    "# But here, I'll be using List Comprehension method --> https://gemini.google.com/app/694cf150cdc628ec\n",
    "\n",
    "int_list = [int(item) for item in l]\n",
    "nl = []    # Create an empty list to store square of int_list\n",
    "\n",
    "\n",
    "for i in int_list:  #iterate over int_list\n",
    "    nl.append(i**2)\n",
    "print(nl)"
   ]
  },
  {
   "cell_type": "code",
   "execution_count": 5,
   "metadata": {},
   "outputs": [
    {
     "name": "stdout",
     "output_type": "stream",
     "text": [
      "Minimum value in the list is 23\n"
     ]
    }
   ],
   "source": [
    "# Find the minimum value in a list.\n",
    "\n",
    "usrinput = input(\"Enter some numbers: \")\n",
    "l = usrinput.split()\n",
    "int_list = [int(itm) for itm in l]\n",
    "minimum = int_list[0]\n",
    "for i in range(len(int_list)):\n",
    "    if int_list[i] < minimum:\n",
    "        minimum = int_list[i]\n",
    "print(f\"Minimum value in the list is {minimum}\")"
   ]
  },
  {
   "cell_type": "code",
   "execution_count": 7,
   "metadata": {},
   "outputs": [
    {
     "name": "stdout",
     "output_type": "stream",
     "text": [
      "Minimum value in the list is 453\n"
     ]
    }
   ],
   "source": [
    "# Find the maximum value in a list.\n",
    "\n",
    "usrinput = input(\"Enter some numbers: \")\n",
    "l = usrinput.split()\n",
    "int_list = [int(itm) for itm in l]\n",
    "maximum = int_list[0]\n",
    "for i in range(len(int_list)):\n",
    "    if int_list[i] > maximum:\n",
    "        maximum = int_list[i]\n",
    "print(f\"Maximum value in the list is {maximum}\")"
   ]
  },
  {
   "cell_type": "code",
   "execution_count": 2,
   "metadata": {},
   "outputs": [
    {
     "name": "stdout",
     "output_type": "stream",
     "text": [
      "Minimum value is 3 and maximum value is 65\n"
     ]
    }
   ],
   "source": [
    "# Find the minimum and maximum values in a list.\n",
    "\n",
    "usrinput = input(\"Enter some numbers: \")\n",
    "l = usrinput.split()\n",
    "int_list = [int(itm) for itm in l]\n",
    "\n",
    "def min_value():\n",
    "    minimum = int_list[0]\n",
    "    for i in range(len(int_list)):\n",
    "        if int_list[i] < minimum:\n",
    "            minimum = int_list[i]\n",
    "    return minimum\n",
    "\n",
    "def max_value():\n",
    "    maximum = int_list[0]\n",
    "    for i in range(len(int_list)):\n",
    "        if int_list[i] > maximum:\n",
    "            maximum = int_list[i]\n",
    "    return maximum\n",
    "\n",
    "print(f\"Minimum value is {min_value()} and maximum value is {max_value()}\")"
   ]
  },
  {
   "cell_type": "code",
   "execution_count": 1,
   "metadata": {},
   "outputs": [
    {
     "name": "stdout",
     "output_type": "stream",
     "text": [
      "Minimum value is 2 and maximum value is 65\n"
     ]
    }
   ],
   "source": [
    "# A better version of previous code\n",
    "\n",
    "def find_min_max(my_list):\n",
    "    min_value = my_list[0]\n",
    "    max_value = my_list[0]\n",
    "\n",
    "    for value in my_list:\n",
    "        if value < min_value:\n",
    "            min_value = value\n",
    "        if value > max_value:\n",
    "            max_value = value\n",
    "\n",
    "    return min_value, max_value\n",
    "\n",
    "usrinput = input(\"Enter some numbers: \")\n",
    "l = usrinput.split()\n",
    "my_list = [int(itm) for itm in l]\n",
    "min_value, max_value = find_min_max(my_list)\n",
    "\n",
    "print(f\"Minimum value is {min_value} and maximum value is {max_value}\")"
   ]
  },
  {
   "cell_type": "markdown",
   "metadata": {},
   "source": [
    "<h2>Intermediate Level:</h2>"
   ]
  },
  {
   "cell_type": "markdown",
   "metadata": {},
   "source": [
    "<h3>5. FizzBuzz</h3>"
   ]
  },
  {
   "cell_type": "code",
   "execution_count": 3,
   "metadata": {},
   "outputs": [
    {
     "name": "stdout",
     "output_type": "stream",
     "text": [
      "1\n",
      "2\n",
      "Fizz\n",
      "4\n",
      "Buzz\n",
      "Fizz\n",
      "7\n",
      "8\n",
      "Fizz\n",
      "Buzz\n",
      "11\n",
      "Fizz\n",
      "13\n",
      "14\n",
      "FizzBuzz\n",
      "16\n",
      "17\n",
      "Fizz\n",
      "19\n",
      "Buzz\n",
      "Fizz\n",
      "22\n",
      "23\n",
      "Fizz\n",
      "Buzz\n",
      "26\n",
      "Fizz\n",
      "28\n",
      "29\n",
      "FizzBuzz\n",
      "31\n",
      "32\n",
      "Fizz\n",
      "34\n",
      "Buzz\n",
      "Fizz\n",
      "37\n",
      "38\n",
      "Fizz\n",
      "Buzz\n",
      "41\n",
      "Fizz\n",
      "43\n",
      "44\n",
      "FizzBuzz\n",
      "46\n",
      "47\n",
      "Fizz\n",
      "49\n",
      "Buzz\n",
      "Fizz\n",
      "52\n",
      "53\n",
      "Fizz\n",
      "Buzz\n",
      "56\n",
      "Fizz\n",
      "58\n",
      "59\n",
      "FizzBuzz\n",
      "61\n",
      "62\n",
      "Fizz\n",
      "64\n",
      "Buzz\n",
      "Fizz\n",
      "67\n",
      "68\n",
      "Fizz\n",
      "Buzz\n",
      "71\n",
      "Fizz\n",
      "73\n",
      "74\n",
      "FizzBuzz\n",
      "76\n",
      "77\n",
      "Fizz\n",
      "79\n",
      "Buzz\n",
      "Fizz\n",
      "82\n",
      "83\n",
      "Fizz\n",
      "Buzz\n",
      "86\n",
      "Fizz\n",
      "88\n",
      "89\n",
      "FizzBuzz\n",
      "91\n",
      "92\n",
      "Fizz\n",
      "94\n",
      "Buzz\n",
      "Fizz\n",
      "97\n",
      "98\n",
      "Fizz\n",
      "Buzz\n"
     ]
    }
   ],
   "source": [
    "# FizzBuzz:\n",
    "\n",
    "# Print the numbers from 1 to 100, replacing multiples of 3 with \"Fizz\", multiples of 5 with \"Buzz\", and multiples of both with \"FizzBuzz\".\n",
    "\n",
    "for i in range(1, 101):\n",
    "    if i % 3 == 0 and i % 5 == 0:\n",
    "        i = \"FizzBuzz\"\n",
    "    elif i % 3 == 0:\n",
    "        i = \"Fizz\"\n",
    "    elif i % 5 == 0:\n",
    "        i = \"Buzz\"\n",
    "    print(i)\n",
    "\n",
    "# Here's another way using string concatination:\n",
    "# for num in range(1, 101):\n",
    "#   output = \"\"\n",
    "#   if num % 3 == 0:\n",
    "#     output += \"Fizz\"\n",
    "#   if num % 5 == 0:\n",
    "#     output += \"Buzz\"\n",
    "#   if not output:\n",
    "#     output = str(num)\n",
    "#   print(output)\n"
   ]
  },
  {
   "cell_type": "markdown",
   "metadata": {},
   "source": [
    "<h3>6: Prime Numbers</h3>"
   ]
  },
  {
   "cell_type": "markdown",
   "metadata": {},
   "source": [
    "<a href=\"https://youtu.be/KdiWcJscO_U?si=xyWuR18ddT1nhLHH\">Reference</a>"
   ]
  },
  {
   "cell_type": "code",
   "execution_count": 2,
   "metadata": {},
   "outputs": [
    {
     "name": "stdout",
     "output_type": "stream",
     "text": [
      "5\n",
      "7\n",
      "11\n",
      "13\n",
      "17\n",
      "19\n",
      "23\n",
      "29\n"
     ]
    }
   ],
   "source": [
    "# Find all prime numbers within a specific range (e.g., 1 to 100).\n",
    "\n",
    "lower,upper = map(int, input(\"Enter lower and upper intervel: \").split())\n",
    "for num in range(lower, upper+1):\n",
    "    if num > 1:\n",
    "        for i in range(2,num):\n",
    "            if num%i == 0:\n",
    "                break\n",
    "        else:\n",
    "            print(num)"
   ]
  },
  {
   "cell_type": "code",
   "execution_count": 3,
   "metadata": {},
   "outputs": [
    {
     "ename": "NameError",
     "evalue": "name 'is_prime' is not defined",
     "output_type": "error",
     "traceback": [
      "\u001b[1;31m---------------------------------------------------------------------------\u001b[0m",
      "\u001b[1;31mNameError\u001b[0m                                 Traceback (most recent call last)",
      "Cell \u001b[1;32mIn[3], line 11\u001b[0m\n\u001b[0;32m      8\u001b[0m         \u001b[38;5;28;01mif\u001b[39;00m num\u001b[38;5;241m%\u001b[39mi \u001b[38;5;241m==\u001b[39m \u001b[38;5;241m0\u001b[39m:\n\u001b[0;32m      9\u001b[0m             is_prime \u001b[38;5;241m=\u001b[39m \u001b[38;5;28;01mFalse\u001b[39;00m\n\u001b[1;32m---> 11\u001b[0m \u001b[38;5;28;01mif\u001b[39;00m \u001b[43mis_prime\u001b[49m \u001b[38;5;241m==\u001b[39m \u001b[38;5;28;01mTrue\u001b[39;00m:\n\u001b[0;32m     12\u001b[0m     \u001b[38;5;28mprint\u001b[39m(\u001b[38;5;124m\"\u001b[39m\u001b[38;5;124mIts a prime\u001b[39m\u001b[38;5;124m\"\u001b[39m)\n\u001b[0;32m     13\u001b[0m \u001b[38;5;28;01melif\u001b[39;00m is_prime \u001b[38;5;241m==\u001b[39m \u001b[38;5;28;01mFalse\u001b[39;00m:\n",
      "\u001b[1;31mNameError\u001b[0m: name 'is_prime' is not defined"
     ]
    }
   ],
   "source": [
    "# Write a program to check if a given number is prime.\n",
    "\n",
    "num = int(input(\"Enter a positive number: \"))\n",
    "\n",
    "if num > 1:\n",
    "    is_prime = True\n",
    "    for i in range(2,num):\n",
    "        if num%i == 0:\n",
    "            is_prime = False\n",
    "\n",
    "if is_prime == True:\n",
    "    print(\"Its a prime\")\n",
    "elif is_prime == False:\n",
    "    print(\"Not a prime\")"
   ]
  },
  {
   "cell_type": "markdown",
   "metadata": {},
   "source": [
    "<a href=\"https://youtu.be/je9FcxgLBf4?si=kKmz8pQPrKJskpPe\">Reference</a>"
   ]
  },
  {
   "cell_type": "code",
   "execution_count": 1,
   "metadata": {},
   "outputs": [
    {
     "name": "stdout",
     "output_type": "stream",
     "text": [
      "1  is not a prime\n"
     ]
    }
   ],
   "source": [
    "# A better way of finding whether a given number is a prime or not?\n",
    "\n",
    "num = int(input(\"Enter a positive number: \"))\n",
    "if num>1:\n",
    "    for i in range(2,num):\n",
    "        if (num%i) == 0:\n",
    "            print(num, \" is not a prime\")\n",
    "            break\n",
    "    else:\n",
    "        print(num,\" is a prime\")\n",
    "else:\n",
    "    print(num, \" is not a prime\")"
   ]
  },
  {
   "cell_type": "markdown",
   "metadata": {},
   "source": [
    "<h3>7. Palindrome Check:</h3>"
   ]
  },
  {
   "cell_type": "code",
   "execution_count": 7,
   "metadata": {},
   "outputs": [
    {
     "name": "stdout",
     "output_type": "stream",
     "text": [
      "The string is a palindrome\n"
     ]
    }
   ],
   "source": [
    "# Write a program to check if a given string is a palindrome (reads the same backward as forward).\n",
    "\n",
    "input_str = input(\"Enter a string: \")\n",
    "lower_case_str = input_str.lower()\n",
    "reverse_str = lower_case_str[::-1]\n",
    "if lower_case_str == reverse_str:\n",
    "    print(\"The string is a palindrome\")\n",
    "else:\n",
    "    print(\"The string is not a palindrome\")"
   ]
  },
  {
   "cell_type": "markdown",
   "metadata": {},
   "source": [
    "<h3>8. Nested Loops:</h3>"
   ]
  },
  {
   "cell_type": "markdown",
   "metadata": {},
   "source": [
    "<a href=\"https://youtu.be/2Icpbawb-vw?si=UhvaihIaP8ft5p_U\" Target=\"_blank\" >Reference</a>\n",
    "\n",
    "<a href=\"https://youtube.com/playlist?list=PLUYUs4r2zEPyA9ctJWr8gP1OM92xhzmOw&si=KEXO7USZGo1AHdHr\" Target=\"_blank\" >You can also refer this playlist</a>"
   ]
  },
  {
   "cell_type": "code",
   "execution_count": 17,
   "metadata": {},
   "outputs": [
    {
     "name": "stdout",
     "output_type": "stream",
     "text": [
      "*\n",
      "**\n",
      "***\n",
      "****\n",
      "*****\n"
     ]
    }
   ],
   "source": [
    "# Print the following pattern using nested for loops:\n",
    "# *\n",
    "# **\n",
    "# ***\n",
    "# ****\n",
    "# *****\n",
    "\n",
    "for i in range(5):\n",
    "    for j in range(i+1):\n",
    "        print(\"*\",end=\"\")\n",
    "    print()"
   ]
  },
  {
   "cell_type": "markdown",
   "metadata": {},
   "source": [
    "<h3>9. String Manipulation:</h3>"
   ]
  },
  {
   "cell_type": "code",
   "execution_count": 20,
   "metadata": {},
   "outputs": [
    {
     "name": "stdout",
     "output_type": "stream",
     "text": [
      "hseveD\n"
     ]
    }
   ],
   "source": [
    "# Reverse a given string using a for loop.\n",
    "\n",
    "str = input(\"Enter a string: \")\n",
    "rstr = \"\"\n",
    "for i in str:\n",
    "    rstr = i + rstr\n",
    "print(rstr)"
   ]
  },
  {
   "cell_type": "code",
   "execution_count": 24,
   "metadata": {},
   "outputs": [
    {
     "name": "stdout",
     "output_type": "stream",
     "text": [
      "7\n"
     ]
    }
   ],
   "source": [
    "# Count the occurrences of each character in a string.\n",
    "\n",
    "str = input(\"Enter a string: \")\n",
    "count = 0\n",
    "for i in str:\n",
    "    count = count + 1\n",
    "print(count)"
   ]
  },
  {
   "cell_type": "markdown",
   "metadata": {},
   "source": [
    "<h2>Advanced Level:</h2>"
   ]
  },
  {
   "cell_type": "markdown",
   "metadata": {},
   "source": [
    "<h3>10. Factorial Calculation:</h3>"
   ]
  },
  {
   "cell_type": "code",
   "execution_count": 31,
   "metadata": {},
   "outputs": [
    {
     "name": "stdout",
     "output_type": "stream",
     "text": [
      "6\n"
     ]
    }
   ],
   "source": [
    "# Find the factorial of a given number using a for loop.\n",
    "\n",
    "num = int(input(\"Enter a number: \"))\n",
    "factorial = 1\n",
    "for i in range(1,num+1):\n",
    "    factorial = factorial * i\n",
    "print(factorial)"
   ]
  },
  {
   "cell_type": "markdown",
   "metadata": {},
   "source": [
    "<h3>11. Fibonacci Sequence:</h3>"
   ]
  },
  {
   "cell_type": "markdown",
   "metadata": {},
   "source": [
    "<a href=\"https://technotip.com/7520/c-program-to-generate-fibonacci-series-using-for-loop/\" Target=\"_blank\" > Reference </a>"
   ]
  },
  {
   "cell_type": "code",
   "execution_count": 8,
   "metadata": {},
   "outputs": [
    {
     "name": "stdout",
     "output_type": "stream",
     "text": [
      "0\n",
      "1\n",
      "1\n",
      "2\n",
      "3\n",
      "5\n",
      "8\n",
      "13\n",
      "21\n",
      "34\n"
     ]
    }
   ],
   "source": [
    "# Generate the Fibonacci sequence up to a certain number of terms.\n",
    "\n",
    "num = int(input(\"Enter a positive integer: \"))\n",
    "\n",
    "a,b = 0,1\n",
    "if num <= 0:\n",
    "    print(\"Please enter a positive integer\")\n",
    "else:\n",
    "    print(a)\n",
    "    print(b)\n",
    "    for i in range(3,num+1):\n",
    "        c = a + b\n",
    "        print(c)\n",
    "        a = b\n",
    "        b = c\n",
    "        "
   ]
  }
 ],
 "metadata": {
  "kernelspec": {
   "display_name": "Python 3",
   "language": "python",
   "name": "python3"
  },
  "language_info": {
   "codemirror_mode": {
    "name": "ipython",
    "version": 3
   },
   "file_extension": ".py",
   "mimetype": "text/x-python",
   "name": "python",
   "nbconvert_exporter": "python",
   "pygments_lexer": "ipython3",
   "version": "3.12.3"
  }
 },
 "nbformat": 4,
 "nbformat_minor": 2
}
