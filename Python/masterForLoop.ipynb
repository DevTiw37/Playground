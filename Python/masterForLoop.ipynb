{
 "cells": [
  {
   "cell_type": "markdown",
   "metadata": {},
   "source": [
    "Beginner Level:"
   ]
  },
  {
   "cell_type": "code",
   "execution_count": 2,
   "metadata": {},
   "outputs": [
    {
     "name": "stdout",
     "output_type": "stream",
     "text": [
      "1\n",
      "2\n",
      "3\n",
      "4\n",
      "5\n",
      "6\n",
      "7\n",
      "8\n",
      "9\n",
      "10\n"
     ]
    }
   ],
   "source": [
    "# Print Numbers:\n",
    "# Print the first 10 natural numbers.\n",
    "\n",
    "for i in range(1,11):\n",
    "    print(i)"
   ]
  },
  {
   "cell_type": "code",
   "execution_count": 5,
   "metadata": {},
   "outputs": [
    {
     "name": "stdout",
     "output_type": "stream",
     "text": [
      "0\n",
      "2\n",
      "4\n",
      "6\n",
      "8\n",
      "10\n",
      "12\n",
      "14\n",
      "16\n",
      "18\n",
      "20\n"
     ]
    }
   ],
   "source": [
    "# Print all even numbers from 1 to 20.\n",
    "\n",
    "for i in range(21):\n",
    "    if i%2==0:\n",
    "        print(i)"
   ]
  },
  {
   "cell_type": "code",
   "execution_count": 7,
   "metadata": {},
   "outputs": [
    {
     "name": "stdout",
     "output_type": "stream",
     "text": [
      "15\n",
      "17\n",
      "19\n",
      "21\n",
      "23\n",
      "25\n",
      "27\n",
      "29\n",
      "31\n",
      "33\n",
      "35\n"
     ]
    }
   ],
   "source": [
    "# Print all odd numbers from 15 to 35.\n",
    "\n",
    "for i in range(15,36):\n",
    "    if i%2!=0:\n",
    "        print(i)"
   ]
  },
  {
   "cell_type": "code",
   "execution_count": 9,
   "metadata": {},
   "outputs": [
    {
     "name": "stdout",
     "output_type": "stream",
     "text": [
      "55\n"
     ]
    }
   ],
   "source": [
    "# 2 Sum of Numbers:\n",
    "# Calculate the sum of all numbers from 1 to a given number (e.g., 100).\n",
    "\n",
    "num = int(input(\"Enter a number: \"))\n",
    "sum = 0\n",
    "for i in range(num+1):\n",
    "    sum = sum + i\n",
    "print(sum)"
   ]
  },
  {
   "cell_type": "code",
   "execution_count": 11,
   "metadata": {},
   "outputs": [
    {
     "name": "stdout",
     "output_type": "stream",
     "text": [
      "30\n"
     ]
    }
   ],
   "source": [
    "# Calculate the sum of all even numbers within a specific range.\n",
    "\n",
    "def calculate_even_number(num):\n",
    "    sum = 0\n",
    "    for i in range(num + 1):\n",
    "        if i%2==0:\n",
    "            sum = sum + i\n",
    "    return sum\n",
    "\n",
    "num = int(input(\"Enter a number: \"))\n",
    "print(calculate_even_number(num))"
   ]
  },
  {
   "cell_type": "code",
   "execution_count": 14,
   "metadata": {},
   "outputs": [
    {
     "name": "stdout",
     "output_type": "stream",
     "text": [
      "Multiplication table of 2 till 10 is \n",
      "2 x 0 = 0\n",
      "2 x 1 = 2\n",
      "2 x 2 = 4\n",
      "2 x 3 = 6\n",
      "2 x 4 = 8\n",
      "2 x 5 = 10\n",
      "2 x 6 = 12\n",
      "2 x 7 = 14\n",
      "2 x 8 = 16\n",
      "2 x 9 = 18\n",
      "2 x 10 = 20\n"
     ]
    }
   ],
   "source": [
    "# 3 Multiplication Table:\n",
    "# Print the multiplication table of a given number (e.g., 7) up to a certain number of terms (e.g., 10).\n",
    "\n",
    "def product(multiplicend, nMultipliers):\n",
    "    for i in range(nMultipliers+1):\n",
    "        print(f\"{multiplicend} x {i} = {multiplicend*i}\")\n",
    "\n",
    "a,b = map(int, input(\"Enter two numbers: \").split())\n",
    "\n",
    "print(f\"Multiplication table of {a} till {b} is \")\n",
    "product(a,b)"
   ]
  },
  {
   "cell_type": "code",
   "execution_count": 18,
   "metadata": {},
   "outputs": [
    {
     "name": "stdout",
     "output_type": "stream",
     "text": [
      "Apple\n",
      "Mango\n",
      "Banana\n",
      "Grapes\n"
     ]
    }
   ],
   "source": [
    "# 4 List Manipulation\n",
    "# Print all elements of a given list using a for loop.\n",
    "\n",
    "list = [\"Apple\", \"Mango\", \"Banana\", \"Grapes\"]\n",
    "for i in list:\n",
    "    print(i)"
   ]
  },
  {
   "cell_type": "code",
   "execution_count": 20,
   "metadata": {},
   "outputs": [
    {
     "name": "stdout",
     "output_type": "stream",
     "text": [
      "[1, 4, 9, 16, 25, 36, 49, 64, 81]\n"
     ]
    }
   ],
   "source": [
    "# Create a new list containing the squares of all numbers in another list.\n",
    "\n",
    "l = [1,2,3,4,5,6,7,8,9]\n",
    "nl = []\n",
    "for i in l:\n",
    "    nl.append(i**2)\n",
    "print(nl)"
   ]
  },
  {
   "cell_type": "code",
   "execution_count": 1,
   "metadata": {},
   "outputs": [
    {
     "name": "stdout",
     "output_type": "stream",
     "text": [
      "[529, 1156, 2025, 441, 144]\n"
     ]
    }
   ],
   "source": [
    "# Same program as above but with user input\n",
    "\n",
    "usrinput = input(\"Enter numbers to find square of: \")    # take input from the user as a string\n",
    "l = usrinput.split()  # Split the string into a list of substrings\n",
    "\n",
    "# Now, convert each substring to an integer\n",
    "# You can use various method for this --> https://gemini.google.com/app/4c3f7317aea8d326\n",
    "# But here, I'll be using List Comprehension method --> https://gemini.google.com/app/694cf150cdc628ec\n",
    "\n",
    "int_list = [int(item) for item in l]\n",
    "nl = []    # Create an empty list to store square of int_list\n",
    "\n",
    "\n",
    "for i in int_list:  #iterate over int_list\n",
    "    nl.append(i**2)\n",
    "print(nl)"
   ]
  },
  {
   "cell_type": "code",
   "execution_count": 5,
   "metadata": {},
   "outputs": [
    {
     "name": "stdout",
     "output_type": "stream",
     "text": [
      "Minimum value in the list is 23\n"
     ]
    }
   ],
   "source": [
    "# Find the minimum value in a list.\n",
    "\n",
    "usrinput = input(\"Enter some numbers: \")\n",
    "l = usrinput.split()\n",
    "int_list = [int(itm) for itm in l]\n",
    "minimum = int_list[0]\n",
    "for i in range(len(int_list)):\n",
    "    if int_list[i] < minimum:\n",
    "        minimum = int_list[i]\n",
    "print(f\"Minimum value in the list is {minimum}\")"
   ]
  },
  {
   "cell_type": "code",
   "execution_count": 7,
   "metadata": {},
   "outputs": [
    {
     "name": "stdout",
     "output_type": "stream",
     "text": [
      "Minimum value in the list is 453\n"
     ]
    }
   ],
   "source": [
    "# Find the maximum value in a list.\n",
    "\n",
    "usrinput = input(\"Enter some numbers: \")\n",
    "l = usrinput.split()\n",
    "int_list = [int(itm) for itm in l]\n",
    "maximum = int_list[0]\n",
    "for i in range(len(int_list)):\n",
    "    if int_list[i] > maximum:\n",
    "        maximum = int_list[i]\n",
    "print(f\"Maximum value in the list is {maximum}\")"
   ]
  },
  {
   "cell_type": "code",
   "execution_count": null,
   "metadata": {},
   "outputs": [],
   "source": [
    "# Find the minimum and maximum values in a list.\n",
    "\n",
    "usrinput = input(\"Enter some numbers: \")\n",
    "l = usrinput.split()\n",
    "int_list = [int(itm) for itm in l]\n",
    "\n",
    "def min_value():\n",
    "    minimum = int_list[0]\n",
    "    for i in range(len(int_list)):\n",
    "        if int_list[i] < minimum:\n",
    "            minimum = int_list[i]\n",
    "    return minimum\n",
    "\n",
    "def max_value():\n",
    "    maximum = int_list[0]\n",
    "    for i in range(len(int_list)):\n",
    "        if int_list[i] > maximum:\n",
    "            maximum = int_list[i]\n",
    "    return maximum\n",
    "\n",
    "print(f\"Minimum value is {min_value()} and maximum value is {max_value()}\")"
   ]
  },
  {
   "cell_type": "code",
   "execution_count": null,
   "metadata": {},
   "outputs": [],
   "source": [
    "# A better version of previous code\n",
    "\n",
    "def find_min_max(my_list):\n",
    "    min_value = my_list[0]\n",
    "    max_value = my_list[0]\n",
    "\n",
    "    for value in my_list:\n",
    "        if value < min_value:\n",
    "            min_value = value\n",
    "        if value > max_value:\n",
    "            max_value = value\n",
    "\n",
    "    return min_value, max_value\n",
    "\n",
    "usrinput = input(\"Enter some numbers: \")\n",
    "l = usrinput.split()\n",
    "my_list = [int(itm) for itm in l]\n",
    "min_value, max_value = find_min_max(my_list)\n",
    "\n",
    "print(f\"Minimum value is {min_value} and maximum value is {max_value}\")"
   ]
  }
 ],
 "metadata": {
  "kernelspec": {
   "display_name": "Python 3",
   "language": "python",
   "name": "python3"
  },
  "language_info": {
   "codemirror_mode": {
    "name": "ipython",
    "version": 3
   },
   "file_extension": ".py",
   "mimetype": "text/x-python",
   "name": "python",
   "nbconvert_exporter": "python",
   "pygments_lexer": "ipython3",
   "version": "3.12.3"
  }
 },
 "nbformat": 4,
 "nbformat_minor": 2
}
