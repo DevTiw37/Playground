{
 "cells": [
  {
   "cell_type": "code",
   "execution_count": 17,
   "metadata": {},
   "outputs": [
    {
     "name": "stdout",
     "output_type": "stream",
     "text": [
      "Sum of even numbers within range 10 is: 30\n"
     ]
    }
   ],
   "source": [
    "n = int(input('Enter a number'))\n",
    "print(f'Sum of even numbers within range {n} is:', sum([x for x in range(1, n+1) if x%2==0]))"
   ]
  },
  {
   "cell_type": "code",
   "execution_count": 18,
   "metadata": {},
   "outputs": [
    {
     "name": "stdout",
     "output_type": "stream",
     "text": [
      "Sum of even numbers within range 10 is: 30\n"
     ]
    }
   ],
   "source": [
    "n = int(input('Enter a number'))\n",
    "print(f'Sum of even numbers within range {n} is:', sum(range(2,n+1,2)))"
   ]
  },
  {
   "cell_type": "code",
   "execution_count": 20,
   "metadata": {},
   "outputs": [
    {
     "name": "stdout",
     "output_type": "stream",
     "text": [
      "30\n"
     ]
    }
   ],
   "source": [
    "n = int(input('Enter a number'))\n",
    "sum = 0\n",
    "for i in range(2, n+1, 2):\n",
    "    sum += i\n",
    "print(sum)"
   ]
  },
  {
   "cell_type": "code",
   "execution_count": 21,
   "metadata": {},
   "outputs": [
    {
     "name": "stdout",
     "output_type": "stream",
     "text": [
      "5 x 1 = 5\n",
      "5 x 2 = 10\n",
      "5 x 3 = 15\n",
      "5 x 4 = 20\n",
      "5 x 6 = 30\n",
      "5 x 7 = 35\n",
      "5 x 8 = 40\n",
      "5 x 9 = 45\n",
      "5 x 10 = 50\n"
     ]
    }
   ],
   "source": [
    "n = int(input('Enter a number: '))\n",
    "for i in range(1,11):\n",
    "    if i == 5:\n",
    "        continue\n",
    "    print(f'{n} x {i} = {n*i}')"
   ]
  },
  {
   "cell_type": "code",
   "execution_count": 22,
   "metadata": {},
   "outputs": [
    {
     "data": {
      "text/plain": [
       "'hseveD'"
      ]
     },
     "execution_count": 22,
     "metadata": {},
     "output_type": "execute_result"
    }
   ],
   "source": [
    "my_str = 'Devesh'\n",
    "r_str = ''\n",
    "for i in my_str:\n",
    "    r_str = i + r_str\n",
    "r_str"
   ]
  },
  {
   "cell_type": "markdown",
   "metadata": {},
   "source": [
    "#### Find all non repeating charecters in a string"
   ]
  },
  {
   "cell_type": "code",
   "execution_count": null,
   "metadata": {},
   "outputs": [],
   "source": [
    "s = 'dqwdw'\n",
    "s = s.strip().lower()\n",
    "c = 1\n",
    "for i in s:\n",
    "    if i in s[c:] or i in s[:c-1]:\n",
    "        c+=1\n",
    "        continue\n",
    "    print(i)\n",
    "    c+=1"
   ]
  },
  {
   "cell_type": "markdown",
   "metadata": {},
   "source": [
    "#### Find the first non repeating charecter in a string"
   ]
  },
  {
   "cell_type": "code",
   "execution_count": null,
   "metadata": {},
   "outputs": [],
   "source": [
    "s = 'teetracdacd'\n",
    "s = s.strip().lower()\n",
    "c = 1\n",
    "for i in s:\n",
    "    if i in s[c:] or i in s[:c-1]:\n",
    "        c+=1\n",
    "        continue\n",
    "    print(i)\n",
    "    break"
   ]
  },
  {
   "cell_type": "code",
   "execution_count": null,
   "metadata": {},
   "outputs": [],
   "source": [
    "s = 'dbjclaiwhdufyrfhslcnxz.cxzcnrfr'\n",
    "for char in s:\n",
    "    if s.count(char) == 1:\n",
    "        print(char)\n",
    "        break"
   ]
  },
  {
   "cell_type": "code",
   "execution_count": 65,
   "metadata": {},
   "outputs": [
    {
     "data": {
      "text/plain": [
       "120"
      ]
     },
     "execution_count": 65,
     "metadata": {},
     "output_type": "execute_result"
    }
   ],
   "source": [
    "def fact(n):\n",
    "    fact = 1\n",
    "    for i in range(1, n+1):\n",
    "        fact *= i\n",
    "    return fact\n",
    "\n",
    "fact(5)"
   ]
  },
  {
   "cell_type": "code",
   "execution_count": null,
   "metadata": {},
   "outputs": [],
   "source": [
    "while True:\n",
    "    n = int(input('Enter a number b/w 1 and 10: '))\n",
    "    if 1 <= n <= 10:\n",
    "        print('Thanks')\n",
    "        break\n",
    "    else:\n",
    "        print('Invalid number, try again.')\n"
   ]
  },
  {
   "cell_type": "code",
   "execution_count": 42,
   "metadata": {},
   "outputs": [
    {
     "data": {
      "text/plain": [
       "True"
      ]
     },
     "execution_count": 42,
     "metadata": {},
     "output_type": "execute_result"
    }
   ],
   "source": [
    "def is_prime(n):\n",
    "    if n <= 1:\n",
    "        return False\n",
    "    for i in range(2, int((n**0.5)+1)):\n",
    "        if n%i == 0:\n",
    "            return False\n",
    "    return True\n",
    "\n",
    "# [x for x in range(1,50) if is_prime(x)]\n",
    "is_prime(2)"
   ]
  },
  {
   "cell_type": "code",
   "execution_count": 43,
   "metadata": {},
   "outputs": [
    {
     "name": "stdout",
     "output_type": "stream",
     "text": [
      "Not a prime number\n",
      "Prime number\n"
     ]
    }
   ],
   "source": [
    "n = int(input('Enter a number: '))\n",
    "if n <= 1:\n",
    "    print('Not a prime number')\n",
    "else:\n",
    "    for i in range(2, int(n**0.5)+1):\n",
    "        if n%i == 0:\n",
    "            print('Not a prime number')\n",
    "    else:\n",
    "        print('Prime number')\n"
   ]
  },
  {
   "cell_type": "code",
   "execution_count": 56,
   "metadata": {},
   "outputs": [
    {
     "name": "stdout",
     "output_type": "stream",
     "text": [
      "True\n"
     ]
    }
   ],
   "source": [
    "n = int(input('Enter a number: '))\n",
    "is_prime = True\n",
    "if n > 1:\n",
    "    for i in range(2, int(n**0.5) + 1):\n",
    "        if n%i == 0:\n",
    "            is_prime = False\n",
    "\n",
    "else:\n",
    "    is_prime = False\n",
    "\n",
    "print(is_prime)"
   ]
  },
  {
   "cell_type": "code",
   "execution_count": null,
   "metadata": {},
   "outputs": [],
   "source": [
    "n = int(input('Enter a number: '))\n",
    "is_prime = True\n",
    "if n>1:\n",
    "    for i in range(2, n):\n",
    "        if n%i == 0:\n",
    "            is_prime = False\n",
    "            break\n",
    "else:\n",
    "    is_prime = False\n",
    "print(is_prime)"
   ]
  },
  {
   "cell_type": "code",
   "execution_count": 77,
   "metadata": {},
   "outputs": [
    {
     "name": "stdout",
     "output_type": "stream",
     "text": [
      "List is not unique\n"
     ]
    }
   ],
   "source": [
    "my_list = list(map(str, input('Enter list items: ').split()))\n",
    "c = 0\n",
    "for i in my_list:\n",
    "    c+=1\n",
    "    if i in my_list[c:]:\n",
    "        print('List is not unique')\n",
    "        break\n",
    "else:\n",
    "    print('List is unique')\n",
    "        \n",
    "    "
   ]
  },
  {
   "cell_type": "code",
   "execution_count": null,
   "metadata": {},
   "outputs": [
    {
     "name": "stdout",
     "output_type": "stream",
     "text": [
      "List is not unique\n"
     ]
    }
   ],
   "source": [
    "my_list = list(map(str, input('Enter list items: ').split()))\n",
    "unique_items = set(my_list)\n",
    "if len(my_list) == len(unique_items):\n",
    "    print('List is unique')\n",
    "else:\n",
    "    print('List is not unique')"
   ]
  },
  {
   "cell_type": "code",
   "execution_count": 87,
   "metadata": {},
   "outputs": [
    {
     "name": "stdout",
     "output_type": "stream",
     "text": [
      "Items are unique\n"
     ]
    }
   ],
   "source": [
    "my_list = list(map(str, input('Enter list items: ').split()))\n",
    "unique_items = []\n",
    "\n",
    "for item in my_list:\n",
    "    if item in unique_items:\n",
    "        print('Duplicate item', item)\n",
    "    else:\n",
    "        unique_items.append(item)\n",
    "else:\n",
    "    print('Items are unique')\n",
    "        "
   ]
  },
  {
   "cell_type": "markdown",
   "metadata": {},
   "source": [
    "#### Exponential Backoff\n",
    "Implement an exponential backoff strategy that doubles the wait between retries, starting from 1 second, but stops after 5 retries."
   ]
  },
  {
   "cell_type": "code",
   "execution_count": 115,
   "metadata": {},
   "outputs": [
    {
     "name": "stdout",
     "output_type": "stream",
     "text": [
      "Wrong, try again after 1 seconds, You have 4 attempts left\n",
      "Wrong, try again after 2 seconds, You have 3 attempts left\n",
      "Wrong, try again after 4 seconds, You have 2 attempts left\n",
      "Wrong, try again after 8 seconds, You have 1 attempts left\n",
      "Access denied\n"
     ]
    }
   ],
   "source": [
    "import time\n",
    "max_retries = 5\n",
    "wait_time = 1\n",
    "attempt = 0\n",
    "\n",
    "while attempt < max_retries:\n",
    "    my_password = input('Enter password: ')\n",
    "    if my_password == 'devesh@123':\n",
    "        print('Access granted')\n",
    "        break \n",
    "    else:\n",
    "        attempt += 1\n",
    "        if attempt ==5:\n",
    "            print('Access denied')\n",
    "            break\n",
    "        print('Wrong, try again after {} seconds, You have {} attempts left'.format(wait_time,abs(attempt-5)))\n",
    "        time.sleep(wait_time)\n",
    "        wait_time *= 2           "
   ]
  }
 ],
 "metadata": {
  "kernelspec": {
   "display_name": "Python 3",
   "language": "python",
   "name": "python3"
  },
  "language_info": {
   "codemirror_mode": {
    "name": "ipython",
    "version": 3
   },
   "file_extension": ".py",
   "mimetype": "text/x-python",
   "name": "python",
   "nbconvert_exporter": "python",
   "pygments_lexer": "ipython3",
   "version": "3.12.8"
  }
 },
 "nbformat": 4,
 "nbformat_minor": 2
}
