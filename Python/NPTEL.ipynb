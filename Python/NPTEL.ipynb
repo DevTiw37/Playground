{
 "cells": [
  {
   "cell_type": "markdown",
   "metadata": {},
   "source": [
    "## Algorithm and Program to find GCD(m,n)"
   ]
  },
  {
   "cell_type": "code",
   "execution_count": null,
   "metadata": {},
   "outputs": [],
   "source": [
    "#______________________________________________________________\n",
    "# Naive way\n",
    "#______________________________________________________________\n",
    "\n",
    "# def gcd(m,n):\n",
    "#     fm = []\n",
    "#     for i in range(1, m+1):\n",
    "#         if m%i == 0:\n",
    "#             fm.append(i)\n",
    "#     fn = []\n",
    "#     for j in range(1, n+1):\n",
    "#         if n%j == 0:\n",
    "#             fn.append(j)\n",
    "    \n",
    "#     cf = []\n",
    "#     for f in fm:\n",
    "#         if f in fn:\n",
    "#             cf.append(f)\n",
    "\n",
    "#     return cf[-1]\n",
    "\n",
    "# print(gcd(14,63))\n",
    "\n",
    "#______________________________________________________________\n",
    "# Better way\n",
    "#______________________________________________________________\n",
    "\n",
    "# def gcd(m,n):\n",
    "#     fm = []\n",
    "#     fn = []\n",
    "#     for i in range(1, max(m,n)+1):\n",
    "#         if m%i == 0:\n",
    "#             fm.append(i)\n",
    "#         if n%i == 0:\n",
    "#             fn.append(i)\n",
    "#     cf = []\n",
    "#     for f in fm:\n",
    "#         if f in fn:\n",
    "#             cf.append(f)\n",
    "#     return cf[-1]\n",
    "\n",
    "# print(gcd(14,63))\n",
    "\n",
    "# ___________________________________________________________\n",
    "# Even Better way\n",
    "#_____________________________________________________________\n",
    "\n",
    "def gcd(m,n):\n",
    "    cf = []\n",
    "    for i in range(1, min(m,n)+1):\n",
    "        if m%i == 0 and n%i == 0:\n",
    "            cf.append(i)\n",
    "    return cf[-1]\n",
    "\n",
    "print(gcd(75,100))"
   ]
  }
 ],
 "metadata": {
  "kernelspec": {
   "display_name": "Python 3",
   "language": "python",
   "name": "python3"
  },
  "language_info": {
   "codemirror_mode": {
    "name": "ipython",
    "version": 3
   },
   "file_extension": ".py",
   "mimetype": "text/x-python",
   "name": "python",
   "nbconvert_exporter": "python",
   "pygments_lexer": "ipython3",
   "version": "3.12.0"
  }
 },
 "nbformat": 4,
 "nbformat_minor": 2
}
